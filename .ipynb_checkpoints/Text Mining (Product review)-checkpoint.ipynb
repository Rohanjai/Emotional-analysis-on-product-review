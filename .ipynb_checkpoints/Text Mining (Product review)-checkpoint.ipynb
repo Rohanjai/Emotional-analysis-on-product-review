{
 "cells": [
  {
   "cell_type": "markdown",
   "id": "5e652830",
   "metadata": {},
   "source": [
    "# Q\n",
    "### 1) Extract reviews of any product from ecommerce website like amazon\n",
    "### 2) Perform emotion mining"
   ]
  },
  {
   "cell_type": "markdown",
   "id": "c029bfa4",
   "metadata": {},
   "source": [
    "#### Importing Libraries "
   ]
  },
  {
   "cell_type": "code",
   "execution_count": 1,
   "id": "54fde665",
   "metadata": {},
   "outputs": [
    {
     "name": "stderr",
     "output_type": "stream",
     "text": [
      "[nltk_data] Downloading package stopwords to C:\\Users\\Prabhu\n",
      "[nltk_data]     N\\AppData\\Roaming\\nltk_data...\n",
      "[nltk_data]   Package stopwords is already up-to-date!\n",
      "[nltk_data] Downloading package punkt to C:\\Users\\Prabhu\n",
      "[nltk_data]     N\\AppData\\Roaming\\nltk_data...\n",
      "[nltk_data]   Package punkt is already up-to-date!\n",
      "[nltk_data] Downloading package wordnet to C:\\Users\\Prabhu\n",
      "[nltk_data]     N\\AppData\\Roaming\\nltk_data...\n",
      "[nltk_data]   Package wordnet is already up-to-date!\n"
     ]
    }
   ],
   "source": [
    "import pandas as pd\n",
    "from bs4 import BeautifulSoup as bs\n",
    "import requests\n",
    "\n",
    "import re\n",
    "\n",
    "import text2emotion as te\n",
    "\n",
    "import matplotlib.pyplot as plt"
   ]
  },
  {
   "cell_type": "markdown",
   "id": "6fbee2a6",
   "metadata": {},
   "source": [
    "#### Product Link"
   ]
  },
  {
   "cell_type": "code",
   "execution_count": 2,
   "id": "b7b77e64",
   "metadata": {},
   "outputs": [],
   "source": [
    "amazon='https://www.amazon.in/'\n",
    "reviews='https://www.amazon.in/HP-Pavilion-15-6-inch-5-4600H-15-ec1050AX/product-reviews/B08CZ2KNS6/ref=cm_cr_dp_d_show_all_btm?ie=UTF8&reviewerType=all_reviews'"
   ]
  },
  {
   "cell_type": "markdown",
   "id": "0525c1e5",
   "metadata": {},
   "source": [
    "#### Extracting 'Customer Name', 'Review Title', 'Rating', 'Reviews' from webpage"
   ]
  },
  {
   "cell_type": "code",
   "execution_count": 3,
   "id": "f20282d9",
   "metadata": {},
   "outputs": [],
   "source": [
    "customer_name = []\n",
    "review_title = []\n",
    "rate = []\n",
    "review_content = []"
   ]
  },
  {
   "cell_type": "code",
   "execution_count": 4,
   "id": "695e87fa",
   "metadata": {},
   "outputs": [],
   "source": [
    "j = 0\n",
    "while j == 0:\n",
    "    page = requests.get(reviews)\n",
    "    while page.ok == False:  \n",
    "        page = requests.get(reviews)\n",
    "    \n",
    "    \n",
    "    soup = bs(page.content,'html.parser')\n",
    "    soup.prettify()\n",
    "    \n",
    "    names = soup.find_all('span', class_='a-profile-name')\n",
    "    names.pop(0)\n",
    "    names.pop(0)\n",
    "    \n",
    "    for i in range(0,len(names)):\n",
    "        customer_name.append(names[i].get_text())\n",
    "        \n",
    "    title = soup.find_all(\"a\",{\"data-hook\":\"review-title\"})\n",
    "    for i in range(0,len(title)):\n",
    "        review_title.append(title[i].get_text())\n",
    "\n",
    "    rating = soup.find_all('i',class_='review-rating')\n",
    "    rating.pop(0)\n",
    "    rating.pop(0)\n",
    "    for i in range(0,len(rating)):\n",
    "        rate.append(rating[i].get_text())\n",
    "\n",
    "    review = soup.find_all(\"span\",{\"data-hook\":\"review-body\"})\n",
    "    for i in range(0,len(review)):\n",
    "        review_content.append(review[i].get_text())\n",
    "        \n",
    "    try:\n",
    "        for div in soup.findAll('li', attrs={'class':'a-last'}):\n",
    "            A = div.find('a')['href']\n",
    "        reviews = amazon + A\n",
    "    except:\n",
    "        break"
   ]
  },
  {
   "cell_type": "markdown",
   "id": "6c85ee88",
   "metadata": {},
   "source": [
    "#### Number of records"
   ]
  },
  {
   "cell_type": "code",
   "execution_count": 5,
   "id": "ddd29efd",
   "metadata": {},
   "outputs": [
    {
     "data": {
      "text/plain": [
       "21"
      ]
     },
     "execution_count": 5,
     "metadata": {},
     "output_type": "execute_result"
    }
   ],
   "source": [
    "len(customer_name)"
   ]
  },
  {
   "cell_type": "code",
   "execution_count": 6,
   "id": "bfc6f799",
   "metadata": {},
   "outputs": [
    {
     "data": {
      "text/plain": [
       "21"
      ]
     },
     "execution_count": 6,
     "metadata": {},
     "output_type": "execute_result"
    }
   ],
   "source": [
    "len(review_title)"
   ]
  },
  {
   "cell_type": "code",
   "execution_count": 7,
   "id": "f6a2d465",
   "metadata": {},
   "outputs": [
    {
     "data": {
      "text/plain": [
       "21"
      ]
     },
     "execution_count": 7,
     "metadata": {},
     "output_type": "execute_result"
    }
   ],
   "source": [
    "len(rate)"
   ]
  },
  {
   "cell_type": "code",
   "execution_count": 8,
   "id": "fccd26ee",
   "metadata": {},
   "outputs": [
    {
     "data": {
      "text/plain": [
       "21"
      ]
     },
     "execution_count": 8,
     "metadata": {},
     "output_type": "execute_result"
    }
   ],
   "source": [
    "len(review_content)"
   ]
  },
  {
   "cell_type": "markdown",
   "id": "747311e7",
   "metadata": {},
   "source": [
    "#### Cleaning data"
   ]
  },
  {
   "cell_type": "code",
   "execution_count": 9,
   "id": "4e84750e",
   "metadata": {},
   "outputs": [],
   "source": [
    "review_title[:] = [x.strip('\\n') for x in review_title]\n",
    "review_content[:] = [x.strip('\\n') for x in review_content]"
   ]
  },
  {
   "cell_type": "markdown",
   "id": "c102d2e9",
   "metadata": {},
   "source": [
    "#### Creating a dataframe"
   ]
  },
  {
   "cell_type": "code",
   "execution_count": 10,
   "id": "341f1422",
   "metadata": {},
   "outputs": [],
   "source": [
    "data = pd.DataFrame()"
   ]
  },
  {
   "cell_type": "code",
   "execution_count": 11,
   "id": "fef5bdd3",
   "metadata": {},
   "outputs": [],
   "source": [
    "data['Customer Name'] = customer_name\n",
    "data['Review Title'] = review_title\n",
    "data['Rating'] = rate\n",
    "data['Reviews'] = review_content"
   ]
  },
  {
   "cell_type": "code",
   "execution_count": 12,
   "id": "2f92b90a",
   "metadata": {},
   "outputs": [
    {
     "data": {
      "text/html": [
       "<div>\n",
       "<style scoped>\n",
       "    .dataframe tbody tr th:only-of-type {\n",
       "        vertical-align: middle;\n",
       "    }\n",
       "\n",
       "    .dataframe tbody tr th {\n",
       "        vertical-align: top;\n",
       "    }\n",
       "\n",
       "    .dataframe thead th {\n",
       "        text-align: right;\n",
       "    }\n",
       "</style>\n",
       "<table border=\"1\" class=\"dataframe\">\n",
       "  <thead>\n",
       "    <tr style=\"text-align: right;\">\n",
       "      <th></th>\n",
       "      <th>Customer Name</th>\n",
       "      <th>Review Title</th>\n",
       "      <th>Rating</th>\n",
       "      <th>Reviews</th>\n",
       "    </tr>\n",
       "  </thead>\n",
       "  <tbody>\n",
       "    <tr>\n",
       "      <th>0</th>\n",
       "      <td>Kaushik Jill</td>\n",
       "      <td>Excellent and Impressed</td>\n",
       "      <td>5.0 out of 5 stars</td>\n",
       "      <td>Product is good, performance is ossm.Video q...</td>\n",
       "    </tr>\n",
       "    <tr>\n",
       "      <th>1</th>\n",
       "      <td>Ankit kumar</td>\n",
       "      <td>Hp is best</td>\n",
       "      <td>4.0 out of 5 stars</td>\n",
       "      <td>Nice design 👍Battery is averageRest all good</td>\n",
       "    </tr>\n",
       "    <tr>\n",
       "      <th>2</th>\n",
       "      <td>Aditya R.</td>\n",
       "      <td>PERFECT</td>\n",
       "      <td>5.0 out of 5 stars</td>\n",
       "      <td>I'm only going to say only one word \"PERFECT\".</td>\n",
       "    </tr>\n",
       "    <tr>\n",
       "      <th>3</th>\n",
       "      <td>PRABHU</td>\n",
       "      <td>Best in class Thankyou Hp</td>\n",
       "      <td>5.0 out of 5 stars</td>\n",
       "      <td>Best in classI just received the product tod...</td>\n",
       "    </tr>\n",
       "    <tr>\n",
       "      <th>4</th>\n",
       "      <td>Junaid</td>\n",
       "      <td>Decent gaming laptop from hp.</td>\n",
       "      <td>4.0 out of 5 stars</td>\n",
       "      <td>Really satisfied with my purchase.  The look...</td>\n",
       "    </tr>\n",
       "    <tr>\n",
       "      <th>5</th>\n",
       "      <td>Jay Amazon Customer</td>\n",
       "      <td>Laptop</td>\n",
       "      <td>1.0 out of 5 stars</td>\n",
       "      <td>They sent not working product.</td>\n",
       "    </tr>\n",
       "    <tr>\n",
       "      <th>6</th>\n",
       "      <td>PUNIT KUMAR RATHI</td>\n",
       "      <td>Except battery everything Superb.</td>\n",
       "      <td>4.0 out of 5 stars</td>\n",
       "      <td>I received HP-Ryzen 5- 4600 Laptop today, 1s...</td>\n",
       "    </tr>\n",
       "    <tr>\n",
       "      <th>7</th>\n",
       "      <td>AR D.</td>\n",
       "      <td>Gg</td>\n",
       "      <td>5.0 out of 5 stars</td>\n",
       "      <td>Your browser does not support HTML5 video.\\n...</td>\n",
       "    </tr>\n",
       "    <tr>\n",
       "      <th>8</th>\n",
       "      <td>Osman</td>\n",
       "      <td>5 stars</td>\n",
       "      <td>5.0 out of 5 stars</td>\n",
       "      <td>great laptop. i love it. go for it. i wish i...</td>\n",
       "    </tr>\n",
       "    <tr>\n",
       "      <th>9</th>\n",
       "      <td>nithes kartic</td>\n",
       "      <td>Gaming</td>\n",
       "      <td>5.0 out of 5 stars</td>\n",
       "      <td>Display is good</td>\n",
       "    </tr>\n",
       "    <tr>\n",
       "      <th>10</th>\n",
       "      <td>Siddhant</td>\n",
       "      <td>Best laptop. In price point</td>\n",
       "      <td>5.0 out of 5 stars</td>\n",
       "      <td>Great Product</td>\n",
       "    </tr>\n",
       "    <tr>\n",
       "      <th>11</th>\n",
       "      <td>Manasi Y.</td>\n",
       "      <td>Excellent</td>\n",
       "      <td>5.0 out of 5 stars</td>\n",
       "      <td>Good</td>\n",
       "    </tr>\n",
       "    <tr>\n",
       "      <th>12</th>\n",
       "      <td>Aryan</td>\n",
       "      <td>Excellent</td>\n",
       "      <td>5.0 out of 5 stars</td>\n",
       "      <td>SUPERB PRODUCT</td>\n",
       "    </tr>\n",
       "    <tr>\n",
       "      <th>13</th>\n",
       "      <td>Darshan</td>\n",
       "      <td>We good laptop to get compared to all other br...</td>\n",
       "      <td>5.0 out of 5 stars</td>\n",
       "      <td>It is good in all category Except battery ba...</td>\n",
       "    </tr>\n",
       "    <tr>\n",
       "      <th>14</th>\n",
       "      <td>SKULL</td>\n",
       "      <td>It's quite a nice product</td>\n",
       "      <td>4.0 out of 5 stars</td>\n",
       "      <td>I like the product.</td>\n",
       "    </tr>\n",
       "    <tr>\n",
       "      <th>15</th>\n",
       "      <td>ARSHWOOD</td>\n",
       "      <td>Amazing Gaming Performance</td>\n",
       "      <td>4.0 out of 5 stars</td>\n",
       "      <td>Processor - 5/5Fantastic, way better than i5...</td>\n",
       "    </tr>\n",
       "    <tr>\n",
       "      <th>16</th>\n",
       "      <td>harsh</td>\n",
       "      <td>Must Buy under 70k to 75k.</td>\n",
       "      <td>5.0 out of 5 stars</td>\n",
       "      <td>I think this is the best gaming laptop under...</td>\n",
       "    </tr>\n",
       "    <tr>\n",
       "      <th>17</th>\n",
       "      <td>vishal sharma</td>\n",
       "      <td>Nice but no OC</td>\n",
       "      <td>5.0 out of 5 stars</td>\n",
       "      <td>I've bought this laptop from offline store a...</td>\n",
       "    </tr>\n",
       "    <tr>\n",
       "      <th>18</th>\n",
       "      <td>Vipulraj</td>\n",
       "      <td>After 1week use</td>\n",
       "      <td>5.0 out of 5 stars</td>\n",
       "      <td>Battery shortageScreen colour not upto markN...</td>\n",
       "    </tr>\n",
       "    <tr>\n",
       "      <th>19</th>\n",
       "      <td>Gurmeet Kaur</td>\n",
       "      <td>Cool</td>\n",
       "      <td>5.0 out of 5 stars</td>\n",
       "      <td>Amazing laptop for coding,daily uses and for...</td>\n",
       "    </tr>\n",
       "    <tr>\n",
       "      <th>20</th>\n",
       "      <td>P HIMABINDU</td>\n",
       "      <td>Best Gaming laptop for this price</td>\n",
       "      <td>5.0 out of 5 stars</td>\n",
       "      <td>Buy offline at HPstore  it costs me around 7...</td>\n",
       "    </tr>\n",
       "  </tbody>\n",
       "</table>\n",
       "</div>"
      ],
      "text/plain": [
       "          Customer Name                                       Review Title  \\\n",
       "0          Kaushik Jill                            Excellent and Impressed   \n",
       "1           Ankit kumar                                         Hp is best   \n",
       "2             Aditya R.                                            PERFECT   \n",
       "3                PRABHU                          Best in class Thankyou Hp   \n",
       "4                Junaid                      Decent gaming laptop from hp.   \n",
       "5   Jay Amazon Customer                                             Laptop   \n",
       "6     PUNIT KUMAR RATHI                  Except battery everything Superb.   \n",
       "7                 AR D.                                                 Gg   \n",
       "8                 Osman                                            5 stars   \n",
       "9         nithes kartic                                             Gaming   \n",
       "10             Siddhant                        Best laptop. In price point   \n",
       "11            Manasi Y.                                          Excellent   \n",
       "12                Aryan                                          Excellent   \n",
       "13              Darshan  We good laptop to get compared to all other br...   \n",
       "14                SKULL                          It's quite a nice product   \n",
       "15             ARSHWOOD                         Amazing Gaming Performance   \n",
       "16                harsh                         Must Buy under 70k to 75k.   \n",
       "17        vishal sharma                                     Nice but no OC   \n",
       "18             Vipulraj                                    After 1week use   \n",
       "19         Gurmeet Kaur                                               Cool   \n",
       "20          P HIMABINDU                  Best Gaming laptop for this price   \n",
       "\n",
       "                Rating                                            Reviews  \n",
       "0   5.0 out of 5 stars    Product is good, performance is ossm.Video q...  \n",
       "1   4.0 out of 5 stars       Nice design 👍Battery is averageRest all good  \n",
       "2   5.0 out of 5 stars     I'm only going to say only one word \"PERFECT\".  \n",
       "3   5.0 out of 5 stars    Best in classI just received the product tod...  \n",
       "4   4.0 out of 5 stars    Really satisfied with my purchase.  The look...  \n",
       "5   1.0 out of 5 stars                     They sent not working product.  \n",
       "6   4.0 out of 5 stars    I received HP-Ryzen 5- 4600 Laptop today, 1s...  \n",
       "7   5.0 out of 5 stars    Your browser does not support HTML5 video.\\n...  \n",
       "8   5.0 out of 5 stars    great laptop. i love it. go for it. i wish i...  \n",
       "9   5.0 out of 5 stars                                    Display is good  \n",
       "10  5.0 out of 5 stars                                      Great Product  \n",
       "11  5.0 out of 5 stars                                               Good  \n",
       "12  5.0 out of 5 stars                                     SUPERB PRODUCT  \n",
       "13  5.0 out of 5 stars    It is good in all category Except battery ba...  \n",
       "14  4.0 out of 5 stars                                I like the product.  \n",
       "15  4.0 out of 5 stars    Processor - 5/5Fantastic, way better than i5...  \n",
       "16  5.0 out of 5 stars    I think this is the best gaming laptop under...  \n",
       "17  5.0 out of 5 stars    I've bought this laptop from offline store a...  \n",
       "18  5.0 out of 5 stars    Battery shortageScreen colour not upto markN...  \n",
       "19  5.0 out of 5 stars    Amazing laptop for coding,daily uses and for...  \n",
       "20  5.0 out of 5 stars    Buy offline at HPstore  it costs me around 7...  "
      ]
     },
     "execution_count": 12,
     "metadata": {},
     "output_type": "execute_result"
    }
   ],
   "source": [
    "data"
   ]
  },
  {
   "cell_type": "markdown",
   "id": "13893897",
   "metadata": {},
   "source": [
    "#### Exporting the dataframe to a csv file"
   ]
  },
  {
   "cell_type": "code",
   "execution_count": 13,
   "id": "cdb75f28",
   "metadata": {},
   "outputs": [],
   "source": [
    "data.to_csv('Amazon_reviews.csv',index = True)"
   ]
  },
  {
   "cell_type": "markdown",
   "id": "6c2ff956",
   "metadata": {},
   "source": [
    "#### Adjoing both 'Review Title' and 'Reviews'"
   ]
  },
  {
   "cell_type": "code",
   "execution_count": 14,
   "id": "bb410d38",
   "metadata": {},
   "outputs": [],
   "source": [
    "data['text']=data['Review Title']+' '+data['Reviews']"
   ]
  },
  {
   "cell_type": "code",
   "execution_count": 15,
   "id": "de653de9",
   "metadata": {},
   "outputs": [
    {
     "data": {
      "text/html": [
       "<div>\n",
       "<style scoped>\n",
       "    .dataframe tbody tr th:only-of-type {\n",
       "        vertical-align: middle;\n",
       "    }\n",
       "\n",
       "    .dataframe tbody tr th {\n",
       "        vertical-align: top;\n",
       "    }\n",
       "\n",
       "    .dataframe thead th {\n",
       "        text-align: right;\n",
       "    }\n",
       "</style>\n",
       "<table border=\"1\" class=\"dataframe\">\n",
       "  <thead>\n",
       "    <tr style=\"text-align: right;\">\n",
       "      <th></th>\n",
       "      <th>Customer Name</th>\n",
       "      <th>Review Title</th>\n",
       "      <th>Rating</th>\n",
       "      <th>Reviews</th>\n",
       "      <th>text</th>\n",
       "    </tr>\n",
       "  </thead>\n",
       "  <tbody>\n",
       "    <tr>\n",
       "      <th>0</th>\n",
       "      <td>Kaushik Jill</td>\n",
       "      <td>Excellent and Impressed</td>\n",
       "      <td>5.0 out of 5 stars</td>\n",
       "      <td>Product is good, performance is ossm.Video q...</td>\n",
       "      <td>Excellent and Impressed   Product is good, per...</td>\n",
       "    </tr>\n",
       "    <tr>\n",
       "      <th>1</th>\n",
       "      <td>Ankit kumar</td>\n",
       "      <td>Hp is best</td>\n",
       "      <td>4.0 out of 5 stars</td>\n",
       "      <td>Nice design 👍Battery is averageRest all good</td>\n",
       "      <td>Hp is best   Nice design 👍Battery is averageRe...</td>\n",
       "    </tr>\n",
       "    <tr>\n",
       "      <th>2</th>\n",
       "      <td>Aditya R.</td>\n",
       "      <td>PERFECT</td>\n",
       "      <td>5.0 out of 5 stars</td>\n",
       "      <td>I'm only going to say only one word \"PERFECT\".</td>\n",
       "      <td>PERFECT   I'm only going to say only one word ...</td>\n",
       "    </tr>\n",
       "    <tr>\n",
       "      <th>3</th>\n",
       "      <td>PRABHU</td>\n",
       "      <td>Best in class Thankyou Hp</td>\n",
       "      <td>5.0 out of 5 stars</td>\n",
       "      <td>Best in classI just received the product tod...</td>\n",
       "      <td>Best in class Thankyou Hp   Best in classI jus...</td>\n",
       "    </tr>\n",
       "    <tr>\n",
       "      <th>4</th>\n",
       "      <td>Junaid</td>\n",
       "      <td>Decent gaming laptop from hp.</td>\n",
       "      <td>4.0 out of 5 stars</td>\n",
       "      <td>Really satisfied with my purchase.  The look...</td>\n",
       "      <td>Decent gaming laptop from hp.   Really satisfi...</td>\n",
       "    </tr>\n",
       "  </tbody>\n",
       "</table>\n",
       "</div>"
      ],
      "text/plain": [
       "  Customer Name                   Review Title              Rating  \\\n",
       "0  Kaushik Jill        Excellent and Impressed  5.0 out of 5 stars   \n",
       "1   Ankit kumar                     Hp is best  4.0 out of 5 stars   \n",
       "2     Aditya R.                        PERFECT  5.0 out of 5 stars   \n",
       "3        PRABHU      Best in class Thankyou Hp  5.0 out of 5 stars   \n",
       "4        Junaid  Decent gaming laptop from hp.  4.0 out of 5 stars   \n",
       "\n",
       "                                             Reviews  \\\n",
       "0    Product is good, performance is ossm.Video q...   \n",
       "1       Nice design 👍Battery is averageRest all good   \n",
       "2     I'm only going to say only one word \"PERFECT\".   \n",
       "3    Best in classI just received the product tod...   \n",
       "4    Really satisfied with my purchase.  The look...   \n",
       "\n",
       "                                                text  \n",
       "0  Excellent and Impressed   Product is good, per...  \n",
       "1  Hp is best   Nice design 👍Battery is averageRe...  \n",
       "2  PERFECT   I'm only going to say only one word ...  \n",
       "3  Best in class Thankyou Hp   Best in classI jus...  \n",
       "4  Decent gaming laptop from hp.   Really satisfi...  "
      ]
     },
     "execution_count": 15,
     "metadata": {},
     "output_type": "execute_result"
    }
   ],
   "source": [
    "data.head()"
   ]
  },
  {
   "cell_type": "markdown",
   "id": "95e09b5f",
   "metadata": {},
   "source": [
    "#### Data cleaning"
   ]
  },
  {
   "cell_type": "code",
   "execution_count": 16,
   "id": "0aebe50a",
   "metadata": {},
   "outputs": [],
   "source": [
    "re_without_space = re.compile(\"(\\.)|(\\,)|(\\{)|(\\})|(\\()|(\\))|(\\[)|(\\])|(\\;)|(\\:)|(\\!)|(\\`)|(\\')|(\\\")|(\\%)|(\\$)|(\\<)|(\\>)|(\\?)|(\\|)|\")\n",
    "re_with_space = re.compile(\"(<br\\s/><br\\s/?)|(-)|(/)|(:).\")\n",
    "def cleantext(var):\n",
    "    var = re.sub('[0-9]', '', var)\n",
    "    var = re.sub(r'https?:\\/\\/\\S+', '', var)\n",
    "    var = re.sub('_', '', var.lower())\n",
    "    var = re_without_space.sub('', var)\n",
    "    var = re_with_space.sub(' ', var)\n",
    "    return var"
   ]
  },
  {
   "cell_type": "code",
   "execution_count": 17,
   "id": "a03e85f9",
   "metadata": {},
   "outputs": [],
   "source": [
    "data['cleantext']=data['text'].apply(cleantext)"
   ]
  },
  {
   "cell_type": "code",
   "execution_count": 18,
   "id": "81699552",
   "metadata": {},
   "outputs": [
    {
     "data": {
      "text/html": [
       "<div>\n",
       "<style scoped>\n",
       "    .dataframe tbody tr th:only-of-type {\n",
       "        vertical-align: middle;\n",
       "    }\n",
       "\n",
       "    .dataframe tbody tr th {\n",
       "        vertical-align: top;\n",
       "    }\n",
       "\n",
       "    .dataframe thead th {\n",
       "        text-align: right;\n",
       "    }\n",
       "</style>\n",
       "<table border=\"1\" class=\"dataframe\">\n",
       "  <thead>\n",
       "    <tr style=\"text-align: right;\">\n",
       "      <th></th>\n",
       "      <th>Customer Name</th>\n",
       "      <th>Review Title</th>\n",
       "      <th>Rating</th>\n",
       "      <th>Reviews</th>\n",
       "      <th>text</th>\n",
       "      <th>cleantext</th>\n",
       "    </tr>\n",
       "  </thead>\n",
       "  <tbody>\n",
       "    <tr>\n",
       "      <th>0</th>\n",
       "      <td>Kaushik Jill</td>\n",
       "      <td>Excellent and Impressed</td>\n",
       "      <td>5.0 out of 5 stars</td>\n",
       "      <td>Product is good, performance is ossm.Video q...</td>\n",
       "      <td>Excellent and Impressed   Product is good, per...</td>\n",
       "      <td>excellent and impressed   product is good perf...</td>\n",
       "    </tr>\n",
       "    <tr>\n",
       "      <th>1</th>\n",
       "      <td>Ankit kumar</td>\n",
       "      <td>Hp is best</td>\n",
       "      <td>4.0 out of 5 stars</td>\n",
       "      <td>Nice design 👍Battery is averageRest all good</td>\n",
       "      <td>Hp is best   Nice design 👍Battery is averageRe...</td>\n",
       "      <td>hp is best   nice design 👍battery is averagere...</td>\n",
       "    </tr>\n",
       "    <tr>\n",
       "      <th>2</th>\n",
       "      <td>Aditya R.</td>\n",
       "      <td>PERFECT</td>\n",
       "      <td>5.0 out of 5 stars</td>\n",
       "      <td>I'm only going to say only one word \"PERFECT\".</td>\n",
       "      <td>PERFECT   I'm only going to say only one word ...</td>\n",
       "      <td>perfect   im only going to say only one word p...</td>\n",
       "    </tr>\n",
       "    <tr>\n",
       "      <th>3</th>\n",
       "      <td>PRABHU</td>\n",
       "      <td>Best in class Thankyou Hp</td>\n",
       "      <td>5.0 out of 5 stars</td>\n",
       "      <td>Best in classI just received the product tod...</td>\n",
       "      <td>Best in class Thankyou Hp   Best in classI jus...</td>\n",
       "      <td>best in class thankyou hp   best in classi jus...</td>\n",
       "    </tr>\n",
       "    <tr>\n",
       "      <th>4</th>\n",
       "      <td>Junaid</td>\n",
       "      <td>Decent gaming laptop from hp.</td>\n",
       "      <td>4.0 out of 5 stars</td>\n",
       "      <td>Really satisfied with my purchase.  The look...</td>\n",
       "      <td>Decent gaming laptop from hp.   Really satisfi...</td>\n",
       "      <td>decent gaming laptop from hp   really satisfie...</td>\n",
       "    </tr>\n",
       "  </tbody>\n",
       "</table>\n",
       "</div>"
      ],
      "text/plain": [
       "  Customer Name                   Review Title              Rating  \\\n",
       "0  Kaushik Jill        Excellent and Impressed  5.0 out of 5 stars   \n",
       "1   Ankit kumar                     Hp is best  4.0 out of 5 stars   \n",
       "2     Aditya R.                        PERFECT  5.0 out of 5 stars   \n",
       "3        PRABHU      Best in class Thankyou Hp  5.0 out of 5 stars   \n",
       "4        Junaid  Decent gaming laptop from hp.  4.0 out of 5 stars   \n",
       "\n",
       "                                             Reviews  \\\n",
       "0    Product is good, performance is ossm.Video q...   \n",
       "1       Nice design 👍Battery is averageRest all good   \n",
       "2     I'm only going to say only one word \"PERFECT\".   \n",
       "3    Best in classI just received the product tod...   \n",
       "4    Really satisfied with my purchase.  The look...   \n",
       "\n",
       "                                                text  \\\n",
       "0  Excellent and Impressed   Product is good, per...   \n",
       "1  Hp is best   Nice design 👍Battery is averageRe...   \n",
       "2  PERFECT   I'm only going to say only one word ...   \n",
       "3  Best in class Thankyou Hp   Best in classI jus...   \n",
       "4  Decent gaming laptop from hp.   Really satisfi...   \n",
       "\n",
       "                                           cleantext  \n",
       "0  excellent and impressed   product is good perf...  \n",
       "1  hp is best   nice design 👍battery is averagere...  \n",
       "2  perfect   im only going to say only one word p...  \n",
       "3  best in class thankyou hp   best in classi jus...  \n",
       "4  decent gaming laptop from hp   really satisfie...  "
      ]
     },
     "execution_count": 18,
     "metadata": {},
     "output_type": "execute_result"
    }
   ],
   "source": [
    "data.head()"
   ]
  },
  {
   "cell_type": "markdown",
   "id": "c60ac4fa",
   "metadata": {},
   "source": [
    "#### Emotional Analysis"
   ]
  },
  {
   "cell_type": "code",
   "execution_count": 19,
   "id": "b5a53ef4",
   "metadata": {},
   "outputs": [],
   "source": [
    "\n",
    "def happy(var):\n",
    "    e = te.get_emotion(var)\n",
    "    return e.get('Happy')\n",
    "\n",
    "def angry(var):\n",
    "    e = te.get_emotion(var)\n",
    "    return e.get('Angry')\n",
    "\n",
    "def fear(var):\n",
    "    e = te.get_emotion(var)\n",
    "    return e.get('Fear')\n",
    "\n",
    "def sad(var):\n",
    "    e = te.get_emotion(var)\n",
    "    return e.get('Sad')\n",
    "\n",
    "def surprise(var):\n",
    "    e = te.get_emotion(var)\n",
    "    return e.get('Surprise')\n"
   ]
  },
  {
   "cell_type": "code",
   "execution_count": 20,
   "id": "7a7621da",
   "metadata": {},
   "outputs": [],
   "source": [
    "data['Happy']=data['cleantext'].apply(happy)\n",
    "data['Angry']=data['cleantext'].apply(angry)\n",
    "data['Fear']=data['cleantext'].apply(fear)\n",
    "data['Sad']=data['cleantext'].apply(sad)\n",
    "data['Surprise']=data['cleantext'].apply(surprise)"
   ]
  },
  {
   "cell_type": "code",
   "execution_count": 21,
   "id": "a2e66584",
   "metadata": {},
   "outputs": [
    {
     "data": {
      "text/html": [
       "<div>\n",
       "<style scoped>\n",
       "    .dataframe tbody tr th:only-of-type {\n",
       "        vertical-align: middle;\n",
       "    }\n",
       "\n",
       "    .dataframe tbody tr th {\n",
       "        vertical-align: top;\n",
       "    }\n",
       "\n",
       "    .dataframe thead th {\n",
       "        text-align: right;\n",
       "    }\n",
       "</style>\n",
       "<table border=\"1\" class=\"dataframe\">\n",
       "  <thead>\n",
       "    <tr style=\"text-align: right;\">\n",
       "      <th></th>\n",
       "      <th>Customer Name</th>\n",
       "      <th>Review Title</th>\n",
       "      <th>Rating</th>\n",
       "      <th>Reviews</th>\n",
       "      <th>text</th>\n",
       "      <th>cleantext</th>\n",
       "      <th>Happy</th>\n",
       "      <th>Angry</th>\n",
       "      <th>Fear</th>\n",
       "      <th>Sad</th>\n",
       "      <th>Surprise</th>\n",
       "    </tr>\n",
       "  </thead>\n",
       "  <tbody>\n",
       "    <tr>\n",
       "      <th>0</th>\n",
       "      <td>Kaushik Jill</td>\n",
       "      <td>Excellent and Impressed</td>\n",
       "      <td>5.0 out of 5 stars</td>\n",
       "      <td>Product is good, performance is ossm.Video q...</td>\n",
       "      <td>Excellent and Impressed   Product is good, per...</td>\n",
       "      <td>excellent and impressed   product is good perf...</td>\n",
       "      <td>0.56</td>\n",
       "      <td>0.11</td>\n",
       "      <td>0.22</td>\n",
       "      <td>0.11</td>\n",
       "      <td>0.00</td>\n",
       "    </tr>\n",
       "    <tr>\n",
       "      <th>1</th>\n",
       "      <td>Ankit kumar</td>\n",
       "      <td>Hp is best</td>\n",
       "      <td>4.0 out of 5 stars</td>\n",
       "      <td>Nice design 👍Battery is averageRest all good</td>\n",
       "      <td>Hp is best   Nice design 👍Battery is averageRe...</td>\n",
       "      <td>hp is best   nice design 👍battery is averagere...</td>\n",
       "      <td>0.50</td>\n",
       "      <td>0.00</td>\n",
       "      <td>0.00</td>\n",
       "      <td>0.00</td>\n",
       "      <td>0.50</td>\n",
       "    </tr>\n",
       "    <tr>\n",
       "      <th>2</th>\n",
       "      <td>Aditya R.</td>\n",
       "      <td>PERFECT</td>\n",
       "      <td>5.0 out of 5 stars</td>\n",
       "      <td>I'm only going to say only one word \"PERFECT\".</td>\n",
       "      <td>PERFECT   I'm only going to say only one word ...</td>\n",
       "      <td>perfect   im only going to say only one word p...</td>\n",
       "      <td>0.00</td>\n",
       "      <td>0.20</td>\n",
       "      <td>0.20</td>\n",
       "      <td>0.40</td>\n",
       "      <td>0.20</td>\n",
       "    </tr>\n",
       "    <tr>\n",
       "      <th>3</th>\n",
       "      <td>PRABHU</td>\n",
       "      <td>Best in class Thankyou Hp</td>\n",
       "      <td>5.0 out of 5 stars</td>\n",
       "      <td>Best in classI just received the product tod...</td>\n",
       "      <td>Best in class Thankyou Hp   Best in classI jus...</td>\n",
       "      <td>best in class thankyou hp   best in classi jus...</td>\n",
       "      <td>0.23</td>\n",
       "      <td>0.00</td>\n",
       "      <td>0.15</td>\n",
       "      <td>0.00</td>\n",
       "      <td>0.62</td>\n",
       "    </tr>\n",
       "    <tr>\n",
       "      <th>4</th>\n",
       "      <td>Junaid</td>\n",
       "      <td>Decent gaming laptop from hp.</td>\n",
       "      <td>4.0 out of 5 stars</td>\n",
       "      <td>Really satisfied with my purchase.  The look...</td>\n",
       "      <td>Decent gaming laptop from hp.   Really satisfi...</td>\n",
       "      <td>decent gaming laptop from hp   really satisfie...</td>\n",
       "      <td>0.08</td>\n",
       "      <td>0.08</td>\n",
       "      <td>0.38</td>\n",
       "      <td>0.23</td>\n",
       "      <td>0.23</td>\n",
       "    </tr>\n",
       "  </tbody>\n",
       "</table>\n",
       "</div>"
      ],
      "text/plain": [
       "  Customer Name                   Review Title              Rating  \\\n",
       "0  Kaushik Jill        Excellent and Impressed  5.0 out of 5 stars   \n",
       "1   Ankit kumar                     Hp is best  4.0 out of 5 stars   \n",
       "2     Aditya R.                        PERFECT  5.0 out of 5 stars   \n",
       "3        PRABHU      Best in class Thankyou Hp  5.0 out of 5 stars   \n",
       "4        Junaid  Decent gaming laptop from hp.  4.0 out of 5 stars   \n",
       "\n",
       "                                             Reviews  \\\n",
       "0    Product is good, performance is ossm.Video q...   \n",
       "1       Nice design 👍Battery is averageRest all good   \n",
       "2     I'm only going to say only one word \"PERFECT\".   \n",
       "3    Best in classI just received the product tod...   \n",
       "4    Really satisfied with my purchase.  The look...   \n",
       "\n",
       "                                                text  \\\n",
       "0  Excellent and Impressed   Product is good, per...   \n",
       "1  Hp is best   Nice design 👍Battery is averageRe...   \n",
       "2  PERFECT   I'm only going to say only one word ...   \n",
       "3  Best in class Thankyou Hp   Best in classI jus...   \n",
       "4  Decent gaming laptop from hp.   Really satisfi...   \n",
       "\n",
       "                                           cleantext  Happy  Angry  Fear  \\\n",
       "0  excellent and impressed   product is good perf...   0.56   0.11  0.22   \n",
       "1  hp is best   nice design 👍battery is averagere...   0.50   0.00  0.00   \n",
       "2  perfect   im only going to say only one word p...   0.00   0.20  0.20   \n",
       "3  best in class thankyou hp   best in classi jus...   0.23   0.00  0.15   \n",
       "4  decent gaming laptop from hp   really satisfie...   0.08   0.08  0.38   \n",
       "\n",
       "    Sad  Surprise  \n",
       "0  0.11      0.00  \n",
       "1  0.00      0.50  \n",
       "2  0.40      0.20  \n",
       "3  0.00      0.62  \n",
       "4  0.23      0.23  "
      ]
     },
     "execution_count": 21,
     "metadata": {},
     "output_type": "execute_result"
    }
   ],
   "source": [
    "data.head()"
   ]
  },
  {
   "cell_type": "markdown",
   "id": "12081049",
   "metadata": {},
   "source": [
    "#### Output data "
   ]
  },
  {
   "cell_type": "code",
   "execution_count": 24,
   "id": "3a5d8eed",
   "metadata": {},
   "outputs": [],
   "source": [
    "final = data.drop(['text','cleantext'], axis=1)\n",
    "\n",
    "final.to_csv('Emotional Analysis of Reviews.csv', index=True)"
   ]
  },
  {
   "cell_type": "markdown",
   "id": "540c8b90",
   "metadata": {},
   "source": [
    "#### Visualizing emotions of reviews "
   ]
  },
  {
   "cell_type": "code",
   "execution_count": 25,
   "id": "657cf979",
   "metadata": {},
   "outputs": [],
   "source": [
    "happy_score=data['Happy'].sum()\n",
    "angry_score=data['Angry'].sum()\n",
    "fear_score=data['Fear'].sum()\n",
    "sad_score=data['Sad'].sum()\n",
    "surprise_score=data['Surprise'].sum()"
   ]
  },
  {
   "cell_type": "code",
   "execution_count": 28,
   "id": "42f4d4e0",
   "metadata": {},
   "outputs": [
    {
     "data": {
      "image/png": "[encoded data removed]",
      "text/plain": [
       "<Figure size 432x288 with 1 Axes>"
      ]
     },
     "metadata": {},
     "output_type": "display_data"
    }
   ],
   "source": [
    "labels = ['happy ['+str(happy_score)+'%]', 'angry ['+str(angry_score)+'%]', \n",
    "'fear ['+str(fear_score)+'%]','sad ['+str(sad_score)+'%]','surprise ['+str(surprise_score)+'%]']\n",
    "\n",
    "total=[happy_score,angry_score,fear_score,sad_score,surprise_score]\n",
    "\n",
    "colors = ['blue','red','yellow','green','violet']\n",
    "patches, texts = plt.pie(total, colors=colors, startangle=90)\n",
    "plt.legend(patches,labels,loc=\"best\")\n",
    "plt.title(\"Emotional Pie Chart\")\n",
    "plt.axis('equal')\n",
    "plt.tight_layout()\n"
   ]
  },
  {
   "cell_type": "markdown",
   "id": "b8af703a",
   "metadata": {},
   "source": [
    "#### We concur that most of the people have given a highly positive review for the LED smart TV and about half of them are sensing a fear about the product."
   ]
  }
 ],
 "metadata": {
  "kernelspec": {
   "display_name": "Python 3",
   "language": "python",
   "name": "python3"
  },
  "language_info": {
   "codemirror_mode": {
    "name": "ipython",
    "version": 3
   },
   "file_extension": ".py",
   "mimetype": "text/x-python",
   "name": "python",
   "nbconvert_exporter": "python",
   "pygments_lexer": "ipython3",
   "version": "3.8.8"
  }
 },
 "nbformat": 4,
 "nbformat_minor": 5
}
