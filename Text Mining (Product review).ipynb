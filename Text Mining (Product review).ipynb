{
 "cells": [
  {
   "cell_type": "markdown",
   "id": "5e652830",
   "metadata": {},
   "source": [
    "# Q\n",
    "### 1) Extract reviews of any product from ecommerce website like amazon\n",
    "### 2) Perform emotion mining"
   ]
  },
  {
   "cell_type": "markdown",
   "id": "c029bfa4",
   "metadata": {},
   "source": [
    "#### Importing Libraries "
   ]
  },
  {
   "cell_type": "code",
   "execution_count": 1,
   "id": "54fde665",
   "metadata": {
    "scrolled": true
   },
   "outputs": [
    {
     "name": "stderr",
     "output_type": "stream",
     "text": [
      "[nltk_data] Downloading package stopwords to\n",
      "[nltk_data]     C:\\Users\\AMD\\AppData\\Roaming\\nltk_data...\n",
      "[nltk_data]   Package stopwords is already up-to-date!\n",
      "[nltk_data] Downloading package punkt to\n",
      "[nltk_data]     C:\\Users\\AMD\\AppData\\Roaming\\nltk_data...\n",
      "[nltk_data]   Package punkt is already up-to-date!\n",
      "[nltk_data] Downloading package wordnet to\n",
      "[nltk_data]     C:\\Users\\AMD\\AppData\\Roaming\\nltk_data...\n",
      "[nltk_data]   Package wordnet is already up-to-date!\n"
     ]
    }
   ],
   "source": [
    "import pandas as pd\n",
    "from bs4 import BeautifulSoup as bs\n",
    "import requests\n",
    "\n",
    "import re\n",
    "\n",
    "import text2emotion as te\n",
    "\n",
    "import matplotlib.pyplot as plt"
   ]
  },
  {
   "cell_type": "code",
   "execution_count": 2,
   "id": "31d00c25",
   "metadata": {},
   "outputs": [
    {
     "name": "stdout",
     "output_type": "stream",
     "text": [
      "Requirement already satisfied: text2emotion in c:\\users\\amd\\anaconda3\\lib\\site-packages (0.0.5)\n",
      "Requirement already satisfied: nltk in c:\\users\\amd\\anaconda3\\lib\\site-packages (from text2emotion) (3.6.1)\n",
      "Requirement already satisfied: emoji>=0.6.0 in c:\\users\\amd\\anaconda3\\lib\\site-packages (from text2emotion) (1.4.2)\n",
      "Requirement already satisfied: joblib in c:\\users\\amd\\anaconda3\\lib\\site-packages (from nltk->text2emotion) (1.0.1)\n",
      "Requirement already satisfied: regex in c:\\users\\amd\\anaconda3\\lib\\site-packages (from nltk->text2emotion) (2021.4.4)\n",
      "Requirement already satisfied: click in c:\\users\\amd\\anaconda3\\lib\\site-packages (from nltk->text2emotion) (7.1.2)\n",
      "Requirement already satisfied: tqdm in c:\\users\\amd\\anaconda3\\lib\\site-packages (from nltk->text2emotion) (4.59.0)\n",
      "Note: you may need to restart the kernel to use updated packages.\n"
     ]
    }
   ],
   "source": [
    "#pip install text2emotion"
   ]
  },
  {
   "cell_type": "markdown",
   "id": "6fbee2a6",
   "metadata": {},
   "source": [
    "#### Product Link"
   ]
  },
  {
   "cell_type": "code",
   "execution_count": 3,
   "id": "b7b77e64",
   "metadata": {},
   "outputs": [],
   "source": [
    "amazon='https://www.amazon.in/'\n",
    "reviews='https://www.amazon.in/product-reviews/B08L5VZKWT/ref=cm_cr_arp_d_viewopt_sr?ie=UTF8&filterByStar=all_stars&reviewerType=all_reviews&pageNumber=1#reviews-filter-bar'"
   ]
  },
  {
   "cell_type": "markdown",
   "id": "0525c1e5",
   "metadata": {},
   "source": [
    "#### Extracting 'Customer Name', 'Review Title', 'Rating', 'Reviews' from webpage"
   ]
  },
  {
   "cell_type": "code",
   "execution_count": 4,
   "id": "f20282d9",
   "metadata": {},
   "outputs": [],
   "source": [
    "customer_name = []\n",
    "review_title = []\n",
    "rate = []\n",
    "review_content = []"
   ]
  },
  {
   "cell_type": "code",
   "execution_count": 5,
   "id": "695e87fa",
   "metadata": {},
   "outputs": [],
   "source": [
    "j = 0\n",
    "while j == 0:\n",
    "    page = requests.get(reviews)\n",
    "    while page.ok == False:  \n",
    "        page = requests.get(reviews)\n",
    "    \n",
    "    \n",
    "    soup = bs(page.content,'html.parser')\n",
    "    soup.prettify()\n",
    "    \n",
    "    names = soup.find_all('span', class_='a-profile-name')\n",
    "    names.pop(0)\n",
    "    names.pop(0)\n",
    "    \n",
    "    for i in range(0,len(names)):\n",
    "        customer_name.append(names[i].get_text())\n",
    "        \n",
    "    title = soup.find_all(\"a\",{\"data-hook\":\"review-title\"})\n",
    "    for i in range(0,len(title)):\n",
    "        review_title.append(title[i].get_text())\n",
    "\n",
    "    rating = soup.find_all('i',class_='review-rating')\n",
    "    rating.pop(0)\n",
    "    rating.pop(0)\n",
    "    for i in range(0,len(rating)):\n",
    "        rate.append(rating[i].get_text())\n",
    "\n",
    "    review = soup.find_all(\"span\",{\"data-hook\":\"review-body\"})\n",
    "    for i in range(0,len(review)):\n",
    "        review_content.append(review[i].get_text())\n",
    "        \n",
    "    try:\n",
    "        for div in soup.findAll('li', attrs={'class':'a-last'}):\n",
    "            A = div.find('a')['href']\n",
    "        reviews = amazon + A\n",
    "    except:\n",
    "        break"
   ]
  },
  {
   "cell_type": "markdown",
   "id": "6c85ee88",
   "metadata": {},
   "source": [
    "#### Number of records"
   ]
  },
  {
   "cell_type": "code",
   "execution_count": 6,
   "id": "ddd29efd",
   "metadata": {},
   "outputs": [
    {
     "data": {
      "text/plain": [
       "284"
      ]
     },
     "execution_count": 6,
     "metadata": {},
     "output_type": "execute_result"
    }
   ],
   "source": [
    "len(customer_name)"
   ]
  },
  {
   "cell_type": "code",
   "execution_count": 7,
   "id": "bfc6f799",
   "metadata": {},
   "outputs": [
    {
     "data": {
      "text/plain": [
       "284"
      ]
     },
     "execution_count": 7,
     "metadata": {},
     "output_type": "execute_result"
    }
   ],
   "source": [
    "len(review_title)"
   ]
  },
  {
   "cell_type": "code",
   "execution_count": 8,
   "id": "f6a2d465",
   "metadata": {},
   "outputs": [
    {
     "data": {
      "text/plain": [
       "284"
      ]
     },
     "execution_count": 8,
     "metadata": {},
     "output_type": "execute_result"
    }
   ],
   "source": [
    "len(rate)"
   ]
  },
  {
   "cell_type": "code",
   "execution_count": 9,
   "id": "fccd26ee",
   "metadata": {},
   "outputs": [
    {
     "data": {
      "text/plain": [
       "284"
      ]
     },
     "execution_count": 9,
     "metadata": {},
     "output_type": "execute_result"
    }
   ],
   "source": [
    "len(review_content)"
   ]
  },
  {
   "cell_type": "markdown",
   "id": "747311e7",
   "metadata": {},
   "source": [
    "#### Cleaning data"
   ]
  },
  {
   "cell_type": "code",
   "execution_count": 10,
   "id": "4e84750e",
   "metadata": {},
   "outputs": [],
   "source": [
    "review_title[:] = [x.strip('\\n') for x in review_title]\n",
    "review_content[:] = [x.strip('\\n') for x in review_content]"
   ]
  },
  {
   "cell_type": "markdown",
   "id": "c102d2e9",
   "metadata": {},
   "source": [
    "#### Creating a dataframe"
   ]
  },
  {
   "cell_type": "code",
   "execution_count": 11,
   "id": "341f1422",
   "metadata": {},
   "outputs": [],
   "source": [
    "data = pd.DataFrame()"
   ]
  },
  {
   "cell_type": "code",
   "execution_count": 12,
   "id": "fef5bdd3",
   "metadata": {},
   "outputs": [],
   "source": [
    "data['Customer Name'] = customer_name\n",
    "data['Review Title'] = review_title\n",
    "data['Rating'] = rate\n",
    "data['Reviews'] = review_content"
   ]
  },
  {
   "cell_type": "code",
   "execution_count": 13,
   "id": "2f92b90a",
   "metadata": {},
   "outputs": [
    {
     "data": {
      "text/html": [
       "<div>\n",
       "<style scoped>\n",
       "    .dataframe tbody tr th:only-of-type {\n",
       "        vertical-align: middle;\n",
       "    }\n",
       "\n",
       "    .dataframe tbody tr th {\n",
       "        vertical-align: top;\n",
       "    }\n",
       "\n",
       "    .dataframe thead th {\n",
       "        text-align: right;\n",
       "    }\n",
       "</style>\n",
       "<table border=\"1\" class=\"dataframe\">\n",
       "  <thead>\n",
       "    <tr style=\"text-align: right;\">\n",
       "      <th></th>\n",
       "      <th>Customer Name</th>\n",
       "      <th>Review Title</th>\n",
       "      <th>Rating</th>\n",
       "      <th>Reviews</th>\n",
       "    </tr>\n",
       "  </thead>\n",
       "  <tbody>\n",
       "    <tr>\n",
       "      <th>0</th>\n",
       "      <td>Subhash K.</td>\n",
       "      <td>Waste of money.</td>\n",
       "      <td>1.0 out of 5 stars</td>\n",
       "      <td>Over priced. And without charger too.Not rec...</td>\n",
       "    </tr>\n",
       "    <tr>\n",
       "      <th>1</th>\n",
       "      <td>Aakash</td>\n",
       "      <td>This took one of my kidneys and a testicle. Bu...</td>\n",
       "      <td>5.0 out of 5 stars</td>\n",
       "      <td>Impressed! I’ve tested it with iphone11 and ...</td>\n",
       "    </tr>\n",
       "    <tr>\n",
       "      <th>2</th>\n",
       "      <td>Arjun Menon</td>\n",
       "      <td>The best iPhone in 2020. Phone of the year.</td>\n",
       "      <td>5.0 out of 5 stars</td>\n",
       "      <td>This is the best iPhone yes. The Max model g...</td>\n",
       "    </tr>\n",
       "    <tr>\n",
       "      <th>3</th>\n",
       "      <td>Amazon Customer</td>\n",
       "      <td>Massive Display, Monster Camera! 👌🏽</td>\n",
       "      <td>5.0 out of 5 stars</td>\n",
       "      <td>Pros: Great display, battery, cameras, usabi...</td>\n",
       "    </tr>\n",
       "    <tr>\n",
       "      <th>4</th>\n",
       "      <td>Sahith</td>\n",
       "      <td>Best &amp; Biggest iPhone i ever owned 🥰</td>\n",
       "      <td>5.0 out of 5 stars</td>\n",
       "      <td>Just no words, what a beauty. Upgrading from...</td>\n",
       "    </tr>\n",
       "    <tr>\n",
       "      <th>...</th>\n",
       "      <td>...</td>\n",
       "      <td>...</td>\n",
       "      <td>...</td>\n",
       "      <td>...</td>\n",
       "    </tr>\n",
       "    <tr>\n",
       "      <th>279</th>\n",
       "      <td>shahamat</td>\n",
       "      <td>Go for it !!</td>\n",
       "      <td>5.0 out of 5 stars</td>\n",
       "      <td>Value for money .. A14 is lit !!! Also d cam...</td>\n",
       "    </tr>\n",
       "    <tr>\n",
       "      <th>280</th>\n",
       "      <td>Sanket</td>\n",
       "      <td>Beast at its best</td>\n",
       "      <td>5.0 out of 5 stars</td>\n",
       "      <td>One word.. \"beast\"</td>\n",
       "    </tr>\n",
       "    <tr>\n",
       "      <th>281</th>\n",
       "      <td>Amazon Customer</td>\n",
       "      <td>Most amazing phone</td>\n",
       "      <td>5.0 out of 5 stars</td>\n",
       "      <td>Amazing phone , best camera and battery life...</td>\n",
       "    </tr>\n",
       "    <tr>\n",
       "      <th>282</th>\n",
       "      <td>Mohit Agarwal</td>\n",
       "      <td>Great Bling Phone</td>\n",
       "      <td>4.0 out of 5 stars</td>\n",
       "      <td>Great phone unfortunately had problems with ...</td>\n",
       "    </tr>\n",
       "    <tr>\n",
       "      <th>283</th>\n",
       "      <td>Shrushti ⚡</td>\n",
       "      <td>Value money</td>\n",
       "      <td>5.0 out of 5 stars</td>\n",
       "      <td>Amazing productThis is my first iOS phone❤️n...</td>\n",
       "    </tr>\n",
       "  </tbody>\n",
       "</table>\n",
       "<p>284 rows × 4 columns</p>\n",
       "</div>"
      ],
      "text/plain": [
       "       Customer Name                                       Review Title  \\\n",
       "0         Subhash K.                                    Waste of money.   \n",
       "1             Aakash  This took one of my kidneys and a testicle. Bu...   \n",
       "2        Arjun Menon        The best iPhone in 2020. Phone of the year.   \n",
       "3    Amazon Customer                Massive Display, Monster Camera! 👌🏽   \n",
       "4             Sahith               Best & Biggest iPhone i ever owned 🥰   \n",
       "..               ...                                                ...   \n",
       "279         shahamat                                       Go for it !!   \n",
       "280           Sanket                                  Beast at its best   \n",
       "281  Amazon Customer                                 Most amazing phone   \n",
       "282    Mohit Agarwal                                  Great Bling Phone   \n",
       "283       Shrushti ⚡                                        Value money   \n",
       "\n",
       "                 Rating                                            Reviews  \n",
       "0    1.0 out of 5 stars    Over priced. And without charger too.Not rec...  \n",
       "1    5.0 out of 5 stars    Impressed! I’ve tested it with iphone11 and ...  \n",
       "2    5.0 out of 5 stars    This is the best iPhone yes. The Max model g...  \n",
       "3    5.0 out of 5 stars    Pros: Great display, battery, cameras, usabi...  \n",
       "4    5.0 out of 5 stars    Just no words, what a beauty. Upgrading from...  \n",
       "..                  ...                                                ...  \n",
       "279  5.0 out of 5 stars    Value for money .. A14 is lit !!! Also d cam...  \n",
       "280  5.0 out of 5 stars                                 One word.. \"beast\"  \n",
       "281  5.0 out of 5 stars    Amazing phone , best camera and battery life...  \n",
       "282  4.0 out of 5 stars    Great phone unfortunately had problems with ...  \n",
       "283  5.0 out of 5 stars    Amazing productThis is my first iOS phone❤️n...  \n",
       "\n",
       "[284 rows x 4 columns]"
      ]
     },
     "execution_count": 13,
     "metadata": {},
     "output_type": "execute_result"
    }
   ],
   "source": [
    "data"
   ]
  },
  {
   "cell_type": "markdown",
   "id": "13893897",
   "metadata": {},
   "source": [
    "#### Exporting the dataframe to a csv file"
   ]
  },
  {
   "cell_type": "code",
   "execution_count": 14,
   "id": "cdb75f28",
   "metadata": {},
   "outputs": [],
   "source": [
    "data.to_csv('Amazon_reviews.csv',index = True)"
   ]
  },
  {
   "cell_type": "markdown",
   "id": "6c2ff956",
   "metadata": {},
   "source": [
    "#### Adjoing both 'Review Title' and 'Reviews'"
   ]
  },
  {
   "cell_type": "code",
   "execution_count": 15,
   "id": "bb410d38",
   "metadata": {},
   "outputs": [],
   "source": [
    "data['text']=data['Review Title']+' '+data['Reviews']"
   ]
  },
  {
   "cell_type": "code",
   "execution_count": 16,
   "id": "de653de9",
   "metadata": {},
   "outputs": [
    {
     "data": {
      "text/html": [
       "<div>\n",
       "<style scoped>\n",
       "    .dataframe tbody tr th:only-of-type {\n",
       "        vertical-align: middle;\n",
       "    }\n",
       "\n",
       "    .dataframe tbody tr th {\n",
       "        vertical-align: top;\n",
       "    }\n",
       "\n",
       "    .dataframe thead th {\n",
       "        text-align: right;\n",
       "    }\n",
       "</style>\n",
       "<table border=\"1\" class=\"dataframe\">\n",
       "  <thead>\n",
       "    <tr style=\"text-align: right;\">\n",
       "      <th></th>\n",
       "      <th>Customer Name</th>\n",
       "      <th>Review Title</th>\n",
       "      <th>Rating</th>\n",
       "      <th>Reviews</th>\n",
       "      <th>text</th>\n",
       "    </tr>\n",
       "  </thead>\n",
       "  <tbody>\n",
       "    <tr>\n",
       "      <th>0</th>\n",
       "      <td>Subhash K.</td>\n",
       "      <td>Waste of money.</td>\n",
       "      <td>1.0 out of 5 stars</td>\n",
       "      <td>Over priced. And without charger too.Not rec...</td>\n",
       "      <td>Waste of money.   Over priced. And without cha...</td>\n",
       "    </tr>\n",
       "    <tr>\n",
       "      <th>1</th>\n",
       "      <td>Aakash</td>\n",
       "      <td>This took one of my kidneys and a testicle. Bu...</td>\n",
       "      <td>5.0 out of 5 stars</td>\n",
       "      <td>Impressed! I’ve tested it with iphone11 and ...</td>\n",
       "      <td>This took one of my kidneys and a testicle. Bu...</td>\n",
       "    </tr>\n",
       "    <tr>\n",
       "      <th>2</th>\n",
       "      <td>Arjun Menon</td>\n",
       "      <td>The best iPhone in 2020. Phone of the year.</td>\n",
       "      <td>5.0 out of 5 stars</td>\n",
       "      <td>This is the best iPhone yes. The Max model g...</td>\n",
       "      <td>The best iPhone in 2020. Phone of the year.   ...</td>\n",
       "    </tr>\n",
       "    <tr>\n",
       "      <th>3</th>\n",
       "      <td>Amazon Customer</td>\n",
       "      <td>Massive Display, Monster Camera! 👌🏽</td>\n",
       "      <td>5.0 out of 5 stars</td>\n",
       "      <td>Pros: Great display, battery, cameras, usabi...</td>\n",
       "      <td>Massive Display, Monster Camera! 👌🏽   Pros: Gr...</td>\n",
       "    </tr>\n",
       "    <tr>\n",
       "      <th>4</th>\n",
       "      <td>Sahith</td>\n",
       "      <td>Best &amp; Biggest iPhone i ever owned 🥰</td>\n",
       "      <td>5.0 out of 5 stars</td>\n",
       "      <td>Just no words, what a beauty. Upgrading from...</td>\n",
       "      <td>Best &amp; Biggest iPhone i ever owned 🥰   Just no...</td>\n",
       "    </tr>\n",
       "  </tbody>\n",
       "</table>\n",
       "</div>"
      ],
      "text/plain": [
       "     Customer Name                                       Review Title  \\\n",
       "0       Subhash K.                                    Waste of money.   \n",
       "1           Aakash  This took one of my kidneys and a testicle. Bu...   \n",
       "2      Arjun Menon        The best iPhone in 2020. Phone of the year.   \n",
       "3  Amazon Customer                Massive Display, Monster Camera! 👌🏽   \n",
       "4           Sahith               Best & Biggest iPhone i ever owned 🥰   \n",
       "\n",
       "               Rating                                            Reviews  \\\n",
       "0  1.0 out of 5 stars    Over priced. And without charger too.Not rec...   \n",
       "1  5.0 out of 5 stars    Impressed! I’ve tested it with iphone11 and ...   \n",
       "2  5.0 out of 5 stars    This is the best iPhone yes. The Max model g...   \n",
       "3  5.0 out of 5 stars    Pros: Great display, battery, cameras, usabi...   \n",
       "4  5.0 out of 5 stars    Just no words, what a beauty. Upgrading from...   \n",
       "\n",
       "                                                text  \n",
       "0  Waste of money.   Over priced. And without cha...  \n",
       "1  This took one of my kidneys and a testicle. Bu...  \n",
       "2  The best iPhone in 2020. Phone of the year.   ...  \n",
       "3  Massive Display, Monster Camera! 👌🏽   Pros: Gr...  \n",
       "4  Best & Biggest iPhone i ever owned 🥰   Just no...  "
      ]
     },
     "execution_count": 16,
     "metadata": {},
     "output_type": "execute_result"
    }
   ],
   "source": [
    "data.head()"
   ]
  },
  {
   "cell_type": "markdown",
   "id": "95e09b5f",
   "metadata": {},
   "source": [
    "#### Data cleaning"
   ]
  },
  {
   "cell_type": "code",
   "execution_count": 17,
   "id": "0aebe50a",
   "metadata": {},
   "outputs": [],
   "source": [
    "re_without_space = re.compile(\"(\\.)|(\\,)|(\\{)|(\\})|(\\()|(\\))|(\\[)|(\\])|(\\;)|(\\:)|(\\!)|(\\`)|(\\')|(\\\")|(\\%)|(\\$)|(\\<)|(\\>)|(\\?)|(\\|)|\")\n",
    "re_with_space = re.compile(\"(<br\\s/><br\\s/?)|(-)|(/)|(:).\")\n",
    "def cleantext(var):\n",
    "    var = re.sub('[0-9]', '', var)\n",
    "    var = re.sub(r'https?:\\/\\/\\S+', '', var)\n",
    "    var = re.sub('_', '', var.lower())\n",
    "    var = re_without_space.sub('', var)\n",
    "    var = re_with_space.sub(' ', var)\n",
    "    return var"
   ]
  },
  {
   "cell_type": "code",
   "execution_count": 18,
   "id": "a03e85f9",
   "metadata": {},
   "outputs": [],
   "source": [
    "data['cleantext']=data['text'].apply(cleantext)"
   ]
  },
  {
   "cell_type": "code",
   "execution_count": 19,
   "id": "81699552",
   "metadata": {},
   "outputs": [
    {
     "data": {
      "text/html": [
       "<div>\n",
       "<style scoped>\n",
       "    .dataframe tbody tr th:only-of-type {\n",
       "        vertical-align: middle;\n",
       "    }\n",
       "\n",
       "    .dataframe tbody tr th {\n",
       "        vertical-align: top;\n",
       "    }\n",
       "\n",
       "    .dataframe thead th {\n",
       "        text-align: right;\n",
       "    }\n",
       "</style>\n",
       "<table border=\"1\" class=\"dataframe\">\n",
       "  <thead>\n",
       "    <tr style=\"text-align: right;\">\n",
       "      <th></th>\n",
       "      <th>Customer Name</th>\n",
       "      <th>Review Title</th>\n",
       "      <th>Rating</th>\n",
       "      <th>Reviews</th>\n",
       "      <th>text</th>\n",
       "      <th>cleantext</th>\n",
       "    </tr>\n",
       "  </thead>\n",
       "  <tbody>\n",
       "    <tr>\n",
       "      <th>0</th>\n",
       "      <td>Subhash K.</td>\n",
       "      <td>Waste of money.</td>\n",
       "      <td>1.0 out of 5 stars</td>\n",
       "      <td>Over priced. And without charger too.Not rec...</td>\n",
       "      <td>Waste of money.   Over priced. And without cha...</td>\n",
       "      <td>waste of money   over priced and without charg...</td>\n",
       "    </tr>\n",
       "    <tr>\n",
       "      <th>1</th>\n",
       "      <td>Aakash</td>\n",
       "      <td>This took one of my kidneys and a testicle. Bu...</td>\n",
       "      <td>5.0 out of 5 stars</td>\n",
       "      <td>Impressed! I’ve tested it with iphone11 and ...</td>\n",
       "      <td>This took one of my kidneys and a testicle. Bu...</td>\n",
       "      <td>this took one of my kidneys and a testicle but...</td>\n",
       "    </tr>\n",
       "    <tr>\n",
       "      <th>2</th>\n",
       "      <td>Arjun Menon</td>\n",
       "      <td>The best iPhone in 2020. Phone of the year.</td>\n",
       "      <td>5.0 out of 5 stars</td>\n",
       "      <td>This is the best iPhone yes. The Max model g...</td>\n",
       "      <td>The best iPhone in 2020. Phone of the year.   ...</td>\n",
       "      <td>the best iphone in  phone of the year   this i...</td>\n",
       "    </tr>\n",
       "    <tr>\n",
       "      <th>3</th>\n",
       "      <td>Amazon Customer</td>\n",
       "      <td>Massive Display, Monster Camera! 👌🏽</td>\n",
       "      <td>5.0 out of 5 stars</td>\n",
       "      <td>Pros: Great display, battery, cameras, usabi...</td>\n",
       "      <td>Massive Display, Monster Camera! 👌🏽   Pros: Gr...</td>\n",
       "      <td>massive display monster camera 👌🏽   pros great...</td>\n",
       "    </tr>\n",
       "    <tr>\n",
       "      <th>4</th>\n",
       "      <td>Sahith</td>\n",
       "      <td>Best &amp; Biggest iPhone i ever owned 🥰</td>\n",
       "      <td>5.0 out of 5 stars</td>\n",
       "      <td>Just no words, what a beauty. Upgrading from...</td>\n",
       "      <td>Best &amp; Biggest iPhone i ever owned 🥰   Just no...</td>\n",
       "      <td>best &amp; biggest iphone i ever owned 🥰   just no...</td>\n",
       "    </tr>\n",
       "  </tbody>\n",
       "</table>\n",
       "</div>"
      ],
      "text/plain": [
       "     Customer Name                                       Review Title  \\\n",
       "0       Subhash K.                                    Waste of money.   \n",
       "1           Aakash  This took one of my kidneys and a testicle. Bu...   \n",
       "2      Arjun Menon        The best iPhone in 2020. Phone of the year.   \n",
       "3  Amazon Customer                Massive Display, Monster Camera! 👌🏽   \n",
       "4           Sahith               Best & Biggest iPhone i ever owned 🥰   \n",
       "\n",
       "               Rating                                            Reviews  \\\n",
       "0  1.0 out of 5 stars    Over priced. And without charger too.Not rec...   \n",
       "1  5.0 out of 5 stars    Impressed! I’ve tested it with iphone11 and ...   \n",
       "2  5.0 out of 5 stars    This is the best iPhone yes. The Max model g...   \n",
       "3  5.0 out of 5 stars    Pros: Great display, battery, cameras, usabi...   \n",
       "4  5.0 out of 5 stars    Just no words, what a beauty. Upgrading from...   \n",
       "\n",
       "                                                text  \\\n",
       "0  Waste of money.   Over priced. And without cha...   \n",
       "1  This took one of my kidneys and a testicle. Bu...   \n",
       "2  The best iPhone in 2020. Phone of the year.   ...   \n",
       "3  Massive Display, Monster Camera! 👌🏽   Pros: Gr...   \n",
       "4  Best & Biggest iPhone i ever owned 🥰   Just no...   \n",
       "\n",
       "                                           cleantext  \n",
       "0  waste of money   over priced and without charg...  \n",
       "1  this took one of my kidneys and a testicle but...  \n",
       "2  the best iphone in  phone of the year   this i...  \n",
       "3  massive display monster camera 👌🏽   pros great...  \n",
       "4  best & biggest iphone i ever owned 🥰   just no...  "
      ]
     },
     "execution_count": 19,
     "metadata": {},
     "output_type": "execute_result"
    }
   ],
   "source": [
    "data.head()"
   ]
  },
  {
   "cell_type": "markdown",
   "id": "c60ac4fa",
   "metadata": {},
   "source": [
    "#### Emotional Analysis"
   ]
  },
  {
   "cell_type": "code",
   "execution_count": 20,
   "id": "b5a53ef4",
   "metadata": {},
   "outputs": [],
   "source": [
    "\n",
    "def happy(var):\n",
    "    e = te.get_emotion(var)\n",
    "    return e.get('Happy')\n",
    "\n",
    "def angry(var):\n",
    "    e = te.get_emotion(var)\n",
    "    return e.get('Angry')\n",
    "\n",
    "def fear(var):\n",
    "    e = te.get_emotion(var)\n",
    "    return e.get('Fear')\n",
    "\n",
    "def sad(var):\n",
    "    e = te.get_emotion(var)\n",
    "    return e.get('Sad')\n",
    "\n",
    "def surprise(var):\n",
    "    e = te.get_emotion(var)\n",
    "    return e.get('Surprise')\n"
   ]
  },
  {
   "cell_type": "code",
   "execution_count": 21,
   "id": "7a7621da",
   "metadata": {},
   "outputs": [],
   "source": [
    "data['Happy']=data['cleantext'].apply(happy)\n",
    "data['Angry']=data['cleantext'].apply(angry)\n",
    "data['Fear']=data['cleantext'].apply(fear)\n",
    "data['Sad']=data['cleantext'].apply(sad)\n",
    "data['Surprise']=data['cleantext'].apply(surprise)"
   ]
  },
  {
   "cell_type": "code",
   "execution_count": 22,
   "id": "a2e66584",
   "metadata": {},
   "outputs": [
    {
     "data": {
      "text/html": [
       "<div>\n",
       "<style scoped>\n",
       "    .dataframe tbody tr th:only-of-type {\n",
       "        vertical-align: middle;\n",
       "    }\n",
       "\n",
       "    .dataframe tbody tr th {\n",
       "        vertical-align: top;\n",
       "    }\n",
       "\n",
       "    .dataframe thead th {\n",
       "        text-align: right;\n",
       "    }\n",
       "</style>\n",
       "<table border=\"1\" class=\"dataframe\">\n",
       "  <thead>\n",
       "    <tr style=\"text-align: right;\">\n",
       "      <th></th>\n",
       "      <th>Customer Name</th>\n",
       "      <th>Review Title</th>\n",
       "      <th>Rating</th>\n",
       "      <th>Reviews</th>\n",
       "      <th>text</th>\n",
       "      <th>cleantext</th>\n",
       "      <th>Happy</th>\n",
       "      <th>Angry</th>\n",
       "      <th>Fear</th>\n",
       "      <th>Sad</th>\n",
       "      <th>Surprise</th>\n",
       "    </tr>\n",
       "  </thead>\n",
       "  <tbody>\n",
       "    <tr>\n",
       "      <th>0</th>\n",
       "      <td>Subhash K.</td>\n",
       "      <td>Waste of money.</td>\n",
       "      <td>1.0 out of 5 stars</td>\n",
       "      <td>Over priced. And without charger too.Not rec...</td>\n",
       "      <td>Waste of money.   Over priced. And without cha...</td>\n",
       "      <td>waste of money   over priced and without charg...</td>\n",
       "      <td>0.00</td>\n",
       "      <td>0.00</td>\n",
       "      <td>0.00</td>\n",
       "      <td>1.00</td>\n",
       "      <td>0.00</td>\n",
       "    </tr>\n",
       "    <tr>\n",
       "      <th>1</th>\n",
       "      <td>Aakash</td>\n",
       "      <td>This took one of my kidneys and a testicle. Bu...</td>\n",
       "      <td>5.0 out of 5 stars</td>\n",
       "      <td>Impressed! I’ve tested it with iphone11 and ...</td>\n",
       "      <td>This took one of my kidneys and a testicle. Bu...</td>\n",
       "      <td>this took one of my kidneys and a testicle but...</td>\n",
       "      <td>0.18</td>\n",
       "      <td>0.00</td>\n",
       "      <td>0.18</td>\n",
       "      <td>0.35</td>\n",
       "      <td>0.29</td>\n",
       "    </tr>\n",
       "    <tr>\n",
       "      <th>2</th>\n",
       "      <td>Arjun Menon</td>\n",
       "      <td>The best iPhone in 2020. Phone of the year.</td>\n",
       "      <td>5.0 out of 5 stars</td>\n",
       "      <td>This is the best iPhone yes. The Max model g...</td>\n",
       "      <td>The best iPhone in 2020. Phone of the year.   ...</td>\n",
       "      <td>the best iphone in  phone of the year   this i...</td>\n",
       "      <td>0.07</td>\n",
       "      <td>0.00</td>\n",
       "      <td>0.50</td>\n",
       "      <td>0.21</td>\n",
       "      <td>0.21</td>\n",
       "    </tr>\n",
       "    <tr>\n",
       "      <th>3</th>\n",
       "      <td>Amazon Customer</td>\n",
       "      <td>Massive Display, Monster Camera! 👌🏽</td>\n",
       "      <td>5.0 out of 5 stars</td>\n",
       "      <td>Pros: Great display, battery, cameras, usabi...</td>\n",
       "      <td>Massive Display, Monster Camera! 👌🏽   Pros: Gr...</td>\n",
       "      <td>massive display monster camera 👌🏽   pros great...</td>\n",
       "      <td>0.25</td>\n",
       "      <td>0.00</td>\n",
       "      <td>0.50</td>\n",
       "      <td>0.25</td>\n",
       "      <td>0.00</td>\n",
       "    </tr>\n",
       "    <tr>\n",
       "      <th>4</th>\n",
       "      <td>Sahith</td>\n",
       "      <td>Best &amp; Biggest iPhone i ever owned 🥰</td>\n",
       "      <td>5.0 out of 5 stars</td>\n",
       "      <td>Just no words, what a beauty. Upgrading from...</td>\n",
       "      <td>Best &amp; Biggest iPhone i ever owned 🥰   Just no...</td>\n",
       "      <td>best &amp; biggest iphone i ever owned 🥰   just no...</td>\n",
       "      <td>0.18</td>\n",
       "      <td>0.09</td>\n",
       "      <td>0.18</td>\n",
       "      <td>0.18</td>\n",
       "      <td>0.36</td>\n",
       "    </tr>\n",
       "  </tbody>\n",
       "</table>\n",
       "</div>"
      ],
      "text/plain": [
       "     Customer Name                                       Review Title  \\\n",
       "0       Subhash K.                                    Waste of money.   \n",
       "1           Aakash  This took one of my kidneys and a testicle. Bu...   \n",
       "2      Arjun Menon        The best iPhone in 2020. Phone of the year.   \n",
       "3  Amazon Customer                Massive Display, Monster Camera! 👌🏽   \n",
       "4           Sahith               Best & Biggest iPhone i ever owned 🥰   \n",
       "\n",
       "               Rating                                            Reviews  \\\n",
       "0  1.0 out of 5 stars    Over priced. And without charger too.Not rec...   \n",
       "1  5.0 out of 5 stars    Impressed! I’ve tested it with iphone11 and ...   \n",
       "2  5.0 out of 5 stars    This is the best iPhone yes. The Max model g...   \n",
       "3  5.0 out of 5 stars    Pros: Great display, battery, cameras, usabi...   \n",
       "4  5.0 out of 5 stars    Just no words, what a beauty. Upgrading from...   \n",
       "\n",
       "                                                text  \\\n",
       "0  Waste of money.   Over priced. And without cha...   \n",
       "1  This took one of my kidneys and a testicle. Bu...   \n",
       "2  The best iPhone in 2020. Phone of the year.   ...   \n",
       "3  Massive Display, Monster Camera! 👌🏽   Pros: Gr...   \n",
       "4  Best & Biggest iPhone i ever owned 🥰   Just no...   \n",
       "\n",
       "                                           cleantext  Happy  Angry  Fear  \\\n",
       "0  waste of money   over priced and without charg...   0.00   0.00  0.00   \n",
       "1  this took one of my kidneys and a testicle but...   0.18   0.00  0.18   \n",
       "2  the best iphone in  phone of the year   this i...   0.07   0.00  0.50   \n",
       "3  massive display monster camera 👌🏽   pros great...   0.25   0.00  0.50   \n",
       "4  best & biggest iphone i ever owned 🥰   just no...   0.18   0.09  0.18   \n",
       "\n",
       "    Sad  Surprise  \n",
       "0  1.00      0.00  \n",
       "1  0.35      0.29  \n",
       "2  0.21      0.21  \n",
       "3  0.25      0.00  \n",
       "4  0.18      0.36  "
      ]
     },
     "execution_count": 22,
     "metadata": {},
     "output_type": "execute_result"
    }
   ],
   "source": [
    "data.head()"
   ]
  },
  {
   "cell_type": "markdown",
   "id": "12081049",
   "metadata": {},
   "source": [
    "#### Output data "
   ]
  },
  {
   "cell_type": "code",
   "execution_count": 23,
   "id": "3a5d8eed",
   "metadata": {},
   "outputs": [],
   "source": [
    "final = data.drop(['text','cleantext'], axis=1)\n",
    "\n",
    "final.to_csv('Emotional Analysis of Reviews.csv', index=True)"
   ]
  },
  {
   "cell_type": "markdown",
   "id": "540c8b90",
   "metadata": {},
   "source": [
    "#### Visualizing emotions of reviews "
   ]
  },
  {
   "cell_type": "code",
   "execution_count": 24,
   "id": "657cf979",
   "metadata": {},
   "outputs": [],
   "source": [
    "happy_score=data['Happy'].sum()\n",
    "angry_score=data['Angry'].sum()\n",
    "fear_score=data['Fear'].sum()\n",
    "sad_score=data['Sad'].sum()\n",
    "surprise_score=data['Surprise'].sum()"
   ]
  },
  {
   "cell_type": "code",
   "execution_count": 25,
   "id": "42f4d4e0",
   "metadata": {
    "scrolled": true
   },
   "outputs": [
    {
     "data": {
      "image/png": "[encoded data removed]",
      "text/plain": [
       "<Figure size 432x288 with 1 Axes>"
      ]
     },
     "metadata": {},
     "output_type": "display_data"
    }
   ],
   "source": [
    "labels = ['happy ['+str(happy_score)+'%]', 'angry ['+str(angry_score)+'%]', \n",
    "'fear ['+str(fear_score)+'%]','sad ['+str(sad_score)+'%]','surprise ['+str(surprise_score)+'%]']\n",
    "\n",
    "total=[happy_score,angry_score,fear_score,sad_score,surprise_score]\n",
    "\n",
    "colors = ['blue','red','yellow','green','violet']\n",
    "patches, texts = plt.pie(total, colors=colors, startangle=90)\n",
    "plt.legend(patches,labels,loc=\"best\")\n",
    "plt.title(\"Emotional Pie Chart\")\n",
    "plt.axis('equal')\n",
    "plt.tight_layout()\n"
   ]
  },
  {
   "cell_type": "markdown",
   "id": "b8af703a",
   "metadata": {},
   "source": [
    "#### We concur that most of the people have given a highly positive review for the LED smart TV and about half of them are sensing a fear about the product."
   ]
  }
 ],
 "metadata": {
  "kernelspec": {
   "display_name": "Python 3",
   "language": "python",
   "name": "python3"
  },
  "language_info": {
   "codemirror_mode": {
    "name": "ipython",
    "version": 3
   },
   "file_extension": ".py",
   "mimetype": "text/x-python",
   "name": "python",
   "nbconvert_exporter": "python",
   "pygments_lexer": "ipython3",
   "version": "3.8.8"
  }
 },
 "nbformat": 4,
 "nbformat_minor": 5
}
